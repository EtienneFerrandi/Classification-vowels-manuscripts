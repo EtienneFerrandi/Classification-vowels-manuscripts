{
 "cells": [
  {
   "cell_type": "code",
   "execution_count": 2,
   "id": "6cbdc18b",
   "metadata": {},
   "outputs": [],
   "source": [
    "import glob\n",
    "import os\n",
    "import pandas as pd\n",
    "import numpy as np\n",
    "import tensorflow as tf\n",
    "from tensorflow.keras import models, layers\n",
    "from sklearn.metrics import confusion_matrix, ConfusionMatrixDisplay, classification_report\n",
    "import matplotlib.pyplot as plt"
   ]
  },
  {
   "cell_type": "code",
   "execution_count": 3,
   "id": "602f3cc7",
   "metadata": {},
   "outputs": [],
   "source": [
    "path_names=[]\n",
    "for path in os.listdir(\"test_voyelles\"):\n",
    "    path_names.append(path)\n",
    "\n",
    "test=[]   \n",
    "for file in path_names:\n",
    "    a=np.loadtxt(\"test_voyelles/\"+file, dtype='int', delimiter='\\t')\n",
    "    test.append(a)\n",
    "    \n",
    "test_voy = np.asarray(test)"
   ]
  },
  {
   "cell_type": "code",
   "execution_count": 4,
   "id": "def05795",
   "metadata": {},
   "outputs": [],
   "source": [
    "path_names_train=[]\n",
    "for path in os.listdir(\"train_voyelles\"):\n",
    "    path_names_train.append(path)\n",
    "\n",
    "train=[]   \n",
    "for file in path_names_train:\n",
    "    b=np.genfromtxt(\"train_voyelles/\"+file, dtype='int', delimiter='\\t')\n",
    "    train.append(b)\n",
    "    \n",
    "train_voy = np.asarray(train)"
   ]
  },
  {
   "cell_type": "code",
   "execution_count": 5,
   "id": "04a2a1fd",
   "metadata": {},
   "outputs": [],
   "source": [
    "train_lab = np.loadtxt(\"train_labels.txt\",dtype=str)\n",
    "test_lab = np.loadtxt(\"test_labels.txt\",dtype=str)"
   ]
  },
  {
   "cell_type": "code",
   "execution_count": 6,
   "id": "d2785e0f",
   "metadata": {},
   "outputs": [],
   "source": [
    "train_voy=train_voy / 255.0\n",
    "test_voy = test_voy / 255.0"
   ]
  },
  {
   "cell_type": "code",
   "execution_count": 7,
   "id": "9bf47d94",
   "metadata": {},
   "outputs": [],
   "source": [
    "train_lab_num = [0 if voy == 'A' else 1 if voy == 'E' else 2 if voy == 'I' else 3 if voy == 'O' else 4 for voy in train_lab]\n",
    "test_lab_num = [0 if voy == 'A' else 1 if voy == 'E' else 2 if voy == 'I' else 3 if voy == 'O' else 4 for voy in test_lab]"
   ]
  },
  {
   "cell_type": "code",
   "execution_count": 8,
   "id": "0092803b",
   "metadata": {},
   "outputs": [],
   "source": [
    "model = tf.keras.Sequential([\n",
    "    tf.keras.layers.Flatten(input_shape=(18, 18)),\n",
    "    tf.keras.layers.Dense(128, activation='relu'),\n",
    "    tf.keras.layers.Dense(5)\n",
    "])"
   ]
  },
  {
   "cell_type": "code",
   "execution_count": 9,
   "id": "20e80c01",
   "metadata": {},
   "outputs": [],
   "source": [
    "model.compile(optimizer='adam',\n",
    "              loss=tf.keras.losses.SparseCategoricalCrossentropy(from_logits=True),\n",
    "              metrics=['accuracy'])"
   ]
  },
  {
   "cell_type": "code",
   "execution_count": 10,
   "id": "05ce378e",
   "metadata": {},
   "outputs": [
    {
     "name": "stdout",
     "output_type": "stream",
     "text": [
      "Epoch 1/10\n",
      "141/141 [==============================] - 1s 3ms/step - loss: 1.0445 - accuracy: 0.6484\n",
      "Epoch 2/10\n",
      "141/141 [==============================] - 0s 2ms/step - loss: 0.5509 - accuracy: 0.8407\n",
      "Epoch 3/10\n",
      "141/141 [==============================] - 0s 2ms/step - loss: 0.4351 - accuracy: 0.8678\n",
      "Epoch 4/10\n",
      "141/141 [==============================] - 0s 3ms/step - loss: 0.3817 - accuracy: 0.8833\n",
      "Epoch 5/10\n",
      "141/141 [==============================] - 0s 2ms/step - loss: 0.3404 - accuracy: 0.8971\n",
      "Epoch 6/10\n",
      "141/141 [==============================] - 0s 3ms/step - loss: 0.3025 - accuracy: 0.9082\n",
      "Epoch 7/10\n",
      "141/141 [==============================] - 0s 3ms/step - loss: 0.2971 - accuracy: 0.9091\n",
      "Epoch 8/10\n",
      "141/141 [==============================] - 0s 2ms/step - loss: 0.2918 - accuracy: 0.9104\n",
      "Epoch 9/10\n",
      "141/141 [==============================] - 0s 2ms/step - loss: 0.2690 - accuracy: 0.9213\n",
      "Epoch 10/10\n",
      "141/141 [==============================] - 0s 2ms/step - loss: 0.2497 - accuracy: 0.9276\n"
     ]
    },
    {
     "data": {
      "text/plain": [
       "<keras.callbacks.History at 0x1f693064700>"
      ]
     },
     "execution_count": 10,
     "metadata": {},
     "output_type": "execute_result"
    }
   ],
   "source": [
    "model.fit(train_voy, np.asarray((train_lab_num)), epochs=10)"
   ]
  },
  {
   "cell_type": "code",
   "execution_count": 11,
   "id": "10b49617",
   "metadata": {},
   "outputs": [
    {
     "name": "stdout",
     "output_type": "stream",
     "text": [
      "16/16 - 0s - loss: 0.2503 - accuracy: 0.9300 - 378ms/epoch - 24ms/step\n",
      "0.9300000071525574\n"
     ]
    }
   ],
   "source": [
    "test_loss, test_acc = model.evaluate(test_voy, np.asarray((test_lab_num)), verbose=2)\n",
    "print(test_acc)"
   ]
  },
  {
   "cell_type": "code",
   "execution_count": 12,
   "id": "9a58af1d",
   "metadata": {},
   "outputs": [],
   "source": [
    "probability_model = tf.keras.Sequential([model, tf.keras.layers.Softmax()])"
   ]
  },
  {
   "cell_type": "code",
   "execution_count": 13,
   "id": "f9e60d77",
   "metadata": {},
   "outputs": [],
   "source": [
    "predictions = probability_model.predict(test_voy)"
   ]
  },
  {
   "cell_type": "code",
   "execution_count": 14,
   "id": "6ee2a145",
   "metadata": {},
   "outputs": [
    {
     "data": {
      "text/plain": [
       "2"
      ]
     },
     "execution_count": 14,
     "metadata": {},
     "output_type": "execute_result"
    }
   ],
   "source": [
    "np.argmax(predictions[0])"
   ]
  },
  {
   "cell_type": "code",
   "execution_count": 15,
   "id": "12d7886f",
   "metadata": {},
   "outputs": [],
   "source": [
    "train_labels = ['A', 'E', 'I', 'O', 'U'] \n",
    "\n",
    "voy_pred=[]\n",
    "for preds in predictions:\n",
    "    li=np.argmax(preds)\n",
    "    lab=train_labels[li]\n",
    "    voy_pred.append(lab)"
   ]
  },
  {
   "cell_type": "code",
   "execution_count": 17,
   "id": "19646ffd",
   "metadata": {},
   "outputs": [
    {
     "name": "stdout",
     "output_type": "stream",
     "text": [
      "              precision    recall  f1-score   support\n",
      "\n",
      "           A       0.93      0.98      0.95       105\n",
      "           E       0.99      0.82      0.90       108\n",
      "           I       0.90      0.98      0.94        92\n",
      "           O       0.93      0.95      0.94       108\n",
      "           U       0.91      0.92      0.91        87\n",
      "\n",
      "    accuracy                           0.93       500\n",
      "   macro avg       0.93      0.93      0.93       500\n",
      "weighted avg       0.93      0.93      0.93       500\n",
      "\n"
     ]
    }
   ],
   "source": [
    "print(classification_report(test_lab, voy_pred))"
   ]
  },
  {
   "cell_type": "code",
   "execution_count": 18,
   "id": "aa87472b",
   "metadata": {},
   "outputs": [
    {
     "data": {
      "text/plain": [
       "<sklearn.metrics._plot.confusion_matrix.ConfusionMatrixDisplay at 0x1f692fad760>"
      ]
     },
     "execution_count": 18,
     "metadata": {},
     "output_type": "execute_result"
    },
    {
     "data": {
      "image/png": "[encoded data removed]",
      "text/plain": [
       "<Figure size 432x288 with 2 Axes>"
      ]
     },
     "metadata": {
      "needs_background": "light"
     },
     "output_type": "display_data"
    }
   ],
   "source": [
    "conf_mat_nn = ConfusionMatrixDisplay(confusion_matrix=confusion_matrix(test_lab, voy_pred, labels=['A','E','I','O','U']), display_labels=['A','E','I','O','U'])\n",
    "conf_mat_nn.plot()"
   ]
  },
  {
   "cell_type": "code",
   "execution_count": 19,
   "id": "729b5aac",
   "metadata": {},
   "outputs": [],
   "source": [
    "def plot_image(i, predictions_array, true_label, img):\n",
    "    true_label, img = true_label[i], img[i]\n",
    "    plt.grid(False)\n",
    "    plt.xticks([])\n",
    "    plt.yticks([])\n",
    "\n",
    "    plt.imshow(img, cmap=plt.cm.binary)\n",
    "\n",
    "    predicted_label = np.argmax(predictions_array)\n",
    "    if predicted_label == true_label:\n",
    "        color = 'blue'\n",
    "    else:\n",
    "        color = 'red'\n",
    "\n",
    "    plt.xlabel(\"{} {:2.0f}% ({})\".format(train_labels[predicted_label],\n",
    "                                100*np.max(predictions_array),\n",
    "                                train_labels[true_label]),\n",
    "                                color=color)\n",
    "\n",
    "def plot_value_array(i, predictions_array, true_label):\n",
    "    true_label = true_label[i]\n",
    "    plt.grid(False)\n",
    "    plt.xticks(range(5))\n",
    "    plt.yticks([])\n",
    "    thisplot = plt.bar(range(5), predictions_array, color=\"#777777\")\n",
    "    plt.ylim([0, 1])\n",
    "    predicted_label = np.argmax(predictions_array)\n",
    "\n",
    "    thisplot[predicted_label].set_color('red')\n",
    "    thisplot[true_label].set_color('blue')"
   ]
  },
  {
   "cell_type": "code",
   "execution_count": 20,
   "id": "34969e32",
   "metadata": {},
   "outputs": [
    {
     "data": {
      "image/png": "[encoded data removed]",
      "text/plain": [
       "<Figure size 864x720 with 30 Axes>"
      ]
     },
     "metadata": {
      "needs_background": "light"
     },
     "output_type": "display_data"
    }
   ],
   "source": [
    "# Plot the first X test images, their predicted labels, and the true labels.\n",
    "# Color correct predictions in blue and incorrect predictions in red.\n",
    "num_rows = 5\n",
    "num_cols = 3\n",
    "num_images = num_rows*num_cols\n",
    "plt.figure(figsize=(2*2*num_cols, 2*num_rows))\n",
    "for i in range(num_images):\n",
    "    plt.subplot(num_rows, 2*num_cols, 2*i+1)\n",
    "    plot_image(i, predictions[i], test_lab_num, test_voy)\n",
    "    plt.subplot(num_rows, 2*num_cols, 2*i+2)\n",
    "    plot_value_array(i, predictions[i], test_lab_num)\n",
    "plt.tight_layout()\n",
    "plt.show()"
   ]
  },
  {
   "cell_type": "code",
   "execution_count": 21,
   "id": "f7a13b6a",
   "metadata": {},
   "outputs": [
    {
     "data": {
      "text/plain": [
       "[8, 12]"
      ]
     },
     "execution_count": 21,
     "metadata": {},
     "output_type": "execute_result"
    }
   ],
   "source": [
    "errors=[]\n",
    "for i in range(len(test_lab)):\n",
    "    if test_lab[i] != voy_pred[i]:\n",
    "        errors.append(i)\n",
    "errors[0:2]"
   ]
  },
  {
   "cell_type": "code",
   "execution_count": 24,
   "id": "a209bb90",
   "metadata": {},
   "outputs": [
    {
     "name": "stdout",
     "output_type": "stream",
     "text": [
      "TRUE :  E\n",
      "PRED:  U\n"
     ]
    },
    {
     "data": {
      "image/png": "[encoded data removed]",
      "text/plain": [
       "<Figure size 432x216 with 2 Axes>"
      ]
     },
     "metadata": {
      "needs_background": "light"
     },
     "output_type": "display_data"
    },
    {
     "name": "stdout",
     "output_type": "stream",
     "text": [
      "TRUE :  I\n",
      "PRED:  U\n"
     ]
    },
    {
     "data": {
      "image/png": "[encoded data removed]",
      "text/plain": [
       "<Figure size 432x216 with 2 Axes>"
      ]
     },
     "metadata": {
      "needs_background": "light"
     },
     "output_type": "display_data"
    }
   ],
   "source": [
    "#two errors\n",
    "\n",
    "print(\"TRUE : \", test_lab[8])\n",
    "print(\"PRED: \", voy_pred[8])\n",
    "i = 8\n",
    "plt.figure(figsize=(6,3))\n",
    "plt.subplot(1,2,1)\n",
    "plot_image(i, predictions[i], test_lab_num, test_voy)\n",
    "plt.subplot(1,2,2)\n",
    "plot_value_array(i, predictions[i],  test_lab_num)\n",
    "plt.show()\n",
    "\n",
    "print(\"TRUE : \", test_lab[12])\n",
    "print(\"PRED: \", voy_pred[12])\n",
    "i = 12\n",
    "plt.figure(figsize=(6,3))\n",
    "plt.subplot(1,2,1)\n",
    "plot_image(i, predictions[i], test_lab_num, test_voy)\n",
    "plt.subplot(1,2,2)\n",
    "plot_value_array(i, predictions[i],  test_lab_num)\n",
    "plt.show()"
   ]
  }
 ],
 "metadata": {
  "kernelspec": {
   "display_name": "Python 3 (ipykernel)",
   "language": "python",
   "name": "python3"
  },
  "language_info": {
   "codemirror_mode": {
    "name": "ipython",
    "version": 3
   },
   "file_extension": ".py",
   "mimetype": "text/x-python",
   "name": "python",
   "nbconvert_exporter": "python",
   "pygments_lexer": "ipython3",
   "version": "3.9.12"
  }
 },
 "nbformat": 4,
 "nbformat_minor": 5
}
