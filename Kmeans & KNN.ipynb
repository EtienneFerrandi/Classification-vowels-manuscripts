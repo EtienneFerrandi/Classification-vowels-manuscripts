{
 "cells": [
  {
   "cell_type": "code",
   "execution_count": 1,
   "id": "6c0400f1",
   "metadata": {},
   "outputs": [],
   "source": [
    "import glob\n",
    "import os\n",
    "import pandas as pd\n",
    "import numpy as np\n",
    "import matplotlib.pyplot as plt"
   ]
  },
  {
   "cell_type": "code",
   "execution_count": 30,
   "id": "dd0b3334",
   "metadata": {},
   "outputs": [],
   "source": [
    "from sklearn.cluster import KMeans\n",
    "from sklearn.metrics import confusion_matrix, ConfusionMatrixDisplay, classification_report\n",
    "from sklearn.metrics import homogeneity_score\n",
    "from sklearn.metrics import silhouette_score\n",
    "from sklearn.neighbors import KNeighborsClassifier"
   ]
  },
  {
   "cell_type": "code",
   "execution_count": 3,
   "id": "bbc7736a",
   "metadata": {},
   "outputs": [],
   "source": [
    "path_names=[]\n",
    "for path in os.listdir(\"test_voyelles\"):\n",
    "    path_names.append(path)\n",
    "\n",
    "test=[]   \n",
    "for file in path_names:\n",
    "    a=np.loadtxt(\"test_voyelles/\"+file, dtype='int', delimiter='\\t')\n",
    "    test.append(a)\n",
    "    \n",
    "test_voy = np.asarray(test)"
   ]
  },
  {
   "cell_type": "code",
   "execution_count": 4,
   "id": "315aada6",
   "metadata": {},
   "outputs": [],
   "source": [
    "path_names_train=[]\n",
    "for path in os.listdir(\"train_voyelles\"):\n",
    "    path_names_train.append(path)\n",
    "\n",
    "train=[]   \n",
    "for file in path_names_train:\n",
    "    b=np.genfromtxt(\"train_voyelles/\"+file, dtype='int', delimiter='\\t')\n",
    "    train.append(b)\n",
    "    \n",
    "train_voy = np.asarray(train)"
   ]
  },
  {
   "cell_type": "code",
   "execution_count": 5,
   "id": "a98e3467",
   "metadata": {},
   "outputs": [],
   "source": [
    "nsamples, nx, ny=test_voy.shape\n",
    "test_voy_re=test_voy.reshape((nsamples,nx*ny))\n",
    "\n",
    "nsamp, n_x, n_y=train_voy.shape\n",
    "train_voy_re=train_voy.reshape((nsamp,n_x*n_y))"
   ]
  },
  {
   "cell_type": "code",
   "execution_count": 6,
   "id": "da3ff055",
   "metadata": {},
   "outputs": [],
   "source": [
    "train_lab = np.loadtxt(\"train_labels.txt\",dtype=str)\n",
    "test_lab = np.loadtxt(\"test_labels.txt\",dtype=str)"
   ]
  },
  {
   "cell_type": "code",
   "execution_count": 7,
   "id": "e1c89b0e",
   "metadata": {},
   "outputs": [],
   "source": [
    "model_kmeans=KMeans(n_clusters=5)"
   ]
  },
  {
   "cell_type": "code",
   "execution_count": 45,
   "id": "30ef2751",
   "metadata": {},
   "outputs": [
    {
     "ename": "SyntaxError",
     "evalue": "invalid syntax (173911661.py, line 2)",
     "output_type": "error",
     "traceback": [
      "\u001b[1;36m  Input \u001b[1;32mIn [45]\u001b[1;36m\u001b[0m\n\u001b[1;33m    pip install numpy==1.21.4\u001b[0m\n\u001b[1;37m        ^\u001b[0m\n\u001b[1;31mSyntaxError\u001b[0m\u001b[1;31m:\u001b[0m invalid syntax\n"
     ]
    }
   ],
   "source": [
    "#downgrading numpy to raise the problem with the load if the model\n",
    "pip install numpy==1.21.4 "
   ]
  },
  {
   "cell_type": "code",
   "execution_count": 8,
   "id": "af2cff07",
   "metadata": {},
   "outputs": [
    {
     "data": {
      "text/plain": [
       "'1.21.4'"
      ]
     },
     "execution_count": 8,
     "metadata": {},
     "output_type": "execute_result"
    }
   ],
   "source": [
    "import numpy as np\n",
    "np.version.version"
   ]
  },
  {
   "cell_type": "code",
   "execution_count": 9,
   "id": "0e136dee",
   "metadata": {},
   "outputs": [],
   "source": [
    "model_kmeans.fit(train_voy_re,train_lab)\n",
    "pred_kmeans = model_kmeans.predict(test_voy_re)"
   ]
  },
  {
   "cell_type": "code",
   "execution_count": 10,
   "id": "e8327908",
   "metadata": {},
   "outputs": [
    {
     "data": {
      "text/plain": [
       "0.05606698128902493"
      ]
     },
     "execution_count": 10,
     "metadata": {},
     "output_type": "execute_result"
    }
   ],
   "source": [
    "sil_score=silhouette_score(train_voy_re, train_lab)\n",
    "hom_score=homogeneity_score(test_lab, pred_kmeans)\n",
    "sil_score"
   ]
  },
  {
   "cell_type": "code",
   "execution_count": 11,
   "id": "779fd9ea",
   "metadata": {},
   "outputs": [],
   "source": [
    "df=pd.DataFrame({'TRUE': list(test_lab), 'PRED': list(pred_kmeans)}, columns=['TRUE', 'PRED'])"
   ]
  },
  {
   "cell_type": "code",
   "execution_count": 12,
   "id": "b2491a06",
   "metadata": {},
   "outputs": [
    {
     "data": {
      "text/plain": [
       "TRUE  PRED\n",
       "A     1       83\n",
       "      2       11\n",
       "      0        6\n",
       "      3        4\n",
       "      4        1\n",
       "dtype: int64"
      ]
     },
     "execution_count": 12,
     "metadata": {},
     "output_type": "execute_result"
    }
   ],
   "source": [
    "df_test = df[df['TRUE'] == 'A']\n",
    "df_test.value_counts()"
   ]
  },
  {
   "cell_type": "code",
   "execution_count": 13,
   "id": "90177f7e",
   "metadata": {},
   "outputs": [
    {
     "data": {
      "text/html": [
       "<div>\n",
       "<style scoped>\n",
       "    .dataframe tbody tr th:only-of-type {\n",
       "        vertical-align: middle;\n",
       "    }\n",
       "\n",
       "    .dataframe tbody tr th {\n",
       "        vertical-align: top;\n",
       "    }\n",
       "\n",
       "    .dataframe thead th {\n",
       "        text-align: right;\n",
       "    }\n",
       "</style>\n",
       "<table border=\"1\" class=\"dataframe\">\n",
       "  <thead>\n",
       "    <tr style=\"text-align: right;\">\n",
       "      <th></th>\n",
       "      <th>TRUE</th>\n",
       "      <th>PRED</th>\n",
       "      <th>VOY_PRED</th>\n",
       "    </tr>\n",
       "  </thead>\n",
       "  <tbody>\n",
       "    <tr>\n",
       "      <th>0</th>\n",
       "      <td>I</td>\n",
       "      <td>3</td>\n",
       "      <td>I</td>\n",
       "    </tr>\n",
       "    <tr>\n",
       "      <th>1</th>\n",
       "      <td>A</td>\n",
       "      <td>1</td>\n",
       "      <td>A</td>\n",
       "    </tr>\n",
       "    <tr>\n",
       "      <th>2</th>\n",
       "      <td>A</td>\n",
       "      <td>1</td>\n",
       "      <td>A</td>\n",
       "    </tr>\n",
       "    <tr>\n",
       "      <th>3</th>\n",
       "      <td>A</td>\n",
       "      <td>1</td>\n",
       "      <td>A</td>\n",
       "    </tr>\n",
       "    <tr>\n",
       "      <th>4</th>\n",
       "      <td>E</td>\n",
       "      <td>4</td>\n",
       "      <td>E</td>\n",
       "    </tr>\n",
       "    <tr>\n",
       "      <th>...</th>\n",
       "      <td>...</td>\n",
       "      <td>...</td>\n",
       "      <td>...</td>\n",
       "    </tr>\n",
       "    <tr>\n",
       "      <th>495</th>\n",
       "      <td>I</td>\n",
       "      <td>3</td>\n",
       "      <td>I</td>\n",
       "    </tr>\n",
       "    <tr>\n",
       "      <th>496</th>\n",
       "      <td>I</td>\n",
       "      <td>3</td>\n",
       "      <td>I</td>\n",
       "    </tr>\n",
       "    <tr>\n",
       "      <th>497</th>\n",
       "      <td>U</td>\n",
       "      <td>2</td>\n",
       "      <td>O</td>\n",
       "    </tr>\n",
       "    <tr>\n",
       "      <th>498</th>\n",
       "      <td>E</td>\n",
       "      <td>4</td>\n",
       "      <td>E</td>\n",
       "    </tr>\n",
       "    <tr>\n",
       "      <th>499</th>\n",
       "      <td>A</td>\n",
       "      <td>1</td>\n",
       "      <td>A</td>\n",
       "    </tr>\n",
       "  </tbody>\n",
       "</table>\n",
       "<p>500 rows × 3 columns</p>\n",
       "</div>"
      ],
      "text/plain": [
       "    TRUE  PRED VOY_PRED\n",
       "0      I     3        I\n",
       "1      A     1        A\n",
       "2      A     1        A\n",
       "3      A     1        A\n",
       "4      E     4        E\n",
       "..   ...   ...      ...\n",
       "495    I     3        I\n",
       "496    I     3        I\n",
       "497    U     2        O\n",
       "498    E     4        E\n",
       "499    A     1        A\n",
       "\n",
       "[500 rows x 3 columns]"
      ]
     },
     "execution_count": 13,
     "metadata": {},
     "output_type": "execute_result"
    }
   ],
   "source": [
    "df.loc[df['PRED'] == 1,'VOY_PRED'] = 'A'\n",
    "df.loc[df['PRED'] == 4,'VOY_PRED'] = 'E'\n",
    "df.loc[df['PRED'] == 3,'VOY_PRED'] = 'I'\n",
    "df.loc[df['PRED'] == 2,'VOY_PRED'] = 'O'\n",
    "df.loc[df['PRED'] == 0,'VOY_PRED'] = 'U'\n",
    "df"
   ]
  },
  {
   "cell_type": "code",
   "execution_count": 14,
   "id": "eed2781f",
   "metadata": {},
   "outputs": [
    {
     "name": "stdout",
     "output_type": "stream",
     "text": [
      "              precision    recall  f1-score   support\n",
      "\n",
      "           A       0.88      0.79      0.83       105\n",
      "           E       0.70      0.57      0.63       108\n",
      "           I       0.66      0.72      0.69        92\n",
      "           O       0.35      0.29      0.31       108\n",
      "           U       0.33      0.48      0.39        87\n",
      "\n",
      "    accuracy                           0.57       500\n",
      "   macro avg       0.58      0.57      0.57       500\n",
      "weighted avg       0.59      0.57      0.57       500\n",
      "\n"
     ]
    }
   ],
   "source": [
    "print(classification_report(test_lab, np.asarray(df['VOY_PRED'])))"
   ]
  },
  {
   "cell_type": "code",
   "execution_count": 15,
   "id": "8d82c955",
   "metadata": {},
   "outputs": [
    {
     "data": {
      "text/plain": [
       "<sklearn.metrics._plot.confusion_matrix.ConfusionMatrixDisplay at 0x168101ff130>"
      ]
     },
     "execution_count": 15,
     "metadata": {},
     "output_type": "execute_result"
    },
    {
     "data": {
      "image/png": "[encoded data removed]",
      "text/plain": [
       "<Figure size 432x288 with 2 Axes>"
      ]
     },
     "metadata": {
      "needs_background": "light"
     },
     "output_type": "display_data"
    }
   ],
   "source": [
    "conf_mat_kmeans = ConfusionMatrixDisplay(confusion_matrix=confusion_matrix(test_lab, np.asarray(df['VOY_PRED']), labels=['U', 'E', 'A', 'I', 'O']), display_labels=['U', 'E', 'A', 'I', 'O'])\n",
    "conf_mat_kmeans.plot()"
   ]
  },
  {
   "cell_type": "code",
   "execution_count": 17,
   "id": "1df2ceef",
   "metadata": {},
   "outputs": [
    {
     "data": {
      "text/plain": [
       "[6, 8, 10, 11, 12, 14, 15, 18, 19, 22]"
      ]
     },
     "execution_count": 17,
     "metadata": {},
     "output_type": "execute_result"
    }
   ],
   "source": [
    "errors=[]\n",
    "for i in range(len(test_lab)):\n",
    "    if test_lab[i] != np.asarray(df['VOY_PRED'][i]):\n",
    "        errors.append(i)\n",
    "errors[:10]\n",
    "#len(errors)"
   ]
  },
  {
   "cell_type": "code",
   "execution_count": 28,
   "id": "d8e41514",
   "metadata": {},
   "outputs": [
    {
     "name": "stdout",
     "output_type": "stream",
     "text": [
      "TRUE :  O\n",
      "PRED:  U\n"
     ]
    },
    {
     "data": {
      "text/plain": [
       "<matplotlib.image.AxesImage at 0x168152f8460>"
      ]
     },
     "execution_count": 28,
     "metadata": {},
     "output_type": "execute_result"
    },
    {
     "data": {
      "image/png": "[encoded data removed]",
      "text/plain": [
       "<Figure size 432x288 with 1 Axes>"
      ]
     },
     "metadata": {
      "needs_background": "light"
     },
     "output_type": "display_data"
    }
   ],
   "source": [
    "print(\"TRUE : \", test_lab[6])\n",
    "print(\"PRED: \", np.asarray(df['VOY_PRED'][6]))\n",
    "plt.imshow(test_voy[6],cmap =\"gray\")"
   ]
  },
  {
   "cell_type": "code",
   "execution_count": 29,
   "id": "4c33d296",
   "metadata": {},
   "outputs": [
    {
     "name": "stdout",
     "output_type": "stream",
     "text": [
      "TRUE :  E\n",
      "PRED:  U\n"
     ]
    },
    {
     "data": {
      "text/plain": [
       "<matplotlib.image.AxesImage at 0x1681536b100>"
      ]
     },
     "execution_count": 29,
     "metadata": {},
     "output_type": "execute_result"
    },
    {
     "data": {
      "image/png": "[encoded data removed]",
      "text/plain": [
       "<Figure size 432x288 with 1 Axes>"
      ]
     },
     "metadata": {
      "needs_background": "light"
     },
     "output_type": "display_data"
    }
   ],
   "source": [
    "import matplotlib.pyplot as plt\n",
    "print(\"TRUE : \", test_lab[8])\n",
    "print(\"PRED: \", np.asarray(df['VOY_PRED'][8]))\n",
    "plt.imshow(test_voy[8],cmap =\"gray\")"
   ]
  },
  {
   "cell_type": "code",
   "execution_count": 31,
   "id": "d7adab06",
   "metadata": {},
   "outputs": [],
   "source": [
    "model_knn=KNeighborsClassifier(n_neighbors=5)"
   ]
  },
  {
   "cell_type": "code",
   "execution_count": 32,
   "id": "e43d9a16",
   "metadata": {},
   "outputs": [
    {
     "name": "stdout",
     "output_type": "stream",
     "text": [
      "              precision    recall  f1-score   support\n",
      "\n",
      "           A       1.00      0.98      0.99       105\n",
      "           E       0.97      0.96      0.97       108\n",
      "           I       0.96      0.98      0.97        92\n",
      "           O       0.95      0.98      0.97       108\n",
      "           U       0.98      0.95      0.97        87\n",
      "\n",
      "    accuracy                           0.97       500\n",
      "   macro avg       0.97      0.97      0.97       500\n",
      "weighted avg       0.97      0.97      0.97       500\n",
      "\n"
     ]
    }
   ],
   "source": [
    "model_knn.fit(train_voy_re,train_lab)\n",
    "pred_knn=model_knn.predict(test_voy_re)\n",
    "print(classification_report(test_lab, pred_knn))"
   ]
  },
  {
   "cell_type": "code",
   "execution_count": 33,
   "id": "214103d6",
   "metadata": {},
   "outputs": [
    {
     "data": {
      "text/plain": [
       "<sklearn.metrics._plot.confusion_matrix.ConfusionMatrixDisplay at 0x16815176670>"
      ]
     },
     "execution_count": 33,
     "metadata": {},
     "output_type": "execute_result"
    },
    {
     "data": {
      "image/png": "[encoded data removed]",
      "text/plain": [
       "<Figure size 432x288 with 2 Axes>"
      ]
     },
     "metadata": {
      "needs_background": "light"
     },
     "output_type": "display_data"
    }
   ],
   "source": [
    "conf_mat_knn = ConfusionMatrixDisplay(confusion_matrix=confusion_matrix(test_lab, pred_knn, labels=['A','E','I','O','U']), display_labels=['A','E','I','O','U'])\n",
    "conf_mat_knn.plot()"
   ]
  },
  {
   "cell_type": "code",
   "execution_count": 37,
   "id": "2305ad19",
   "metadata": {},
   "outputs": [
    {
     "data": {
      "text/plain": [
       "[12, 64, 124, 145, 163, 331, 338, 372, 375, 411, 413, 479, 480, 483]"
      ]
     },
     "execution_count": 37,
     "metadata": {},
     "output_type": "execute_result"
    }
   ],
   "source": [
    "errors=[]\n",
    "for i in range(len(test_lab)):\n",
    "    if test_lab[i] != pred_knn[i]:\n",
    "        errors.append(i)\n",
    "errors\n",
    "#len(errors)"
   ]
  },
  {
   "cell_type": "code",
   "execution_count": 102,
   "id": "eb7c4a26",
   "metadata": {},
   "outputs": [
    {
     "name": "stdout",
     "output_type": "stream",
     "text": [
      "TRUE VALUE :  I\n",
      "PREDICTION:  U\n"
     ]
    },
    {
     "data": {
      "text/plain": [
       "<matplotlib.image.AxesImage at 0x1ac93f84a90>"
      ]
     },
     "execution_count": 102,
     "metadata": {},
     "output_type": "execute_result"
    },
    {
     "data": {
      "image/png": "[encoded data removed]",
      "text/plain": [
       "<Figure size 432x288 with 1 Axes>"
      ]
     },
     "metadata": {
      "needs_background": "light"
     },
     "output_type": "display_data"
    }
   ],
   "source": [
    "print(\"TRUE : \", test_lab[12])\n",
    "print(\"PRED: \", pred_knn[12])\n",
    "plt.imshow(test_voy[12],cmap =\"gray\")"
   ]
  },
  {
   "cell_type": "code",
   "execution_count": 35,
   "id": "629600ce",
   "metadata": {},
   "outputs": [
    {
     "name": "stdout",
     "output_type": "stream",
     "text": [
      "TRUE :  E\n",
      "PRED:  O\n"
     ]
    },
    {
     "data": {
      "text/plain": [
       "<matplotlib.image.AxesImage at 0x168154ae9a0>"
      ]
     },
     "execution_count": 35,
     "metadata": {},
     "output_type": "execute_result"
    },
    {
     "data": {
      "image/png": "[encoded data removed]",
      "text/plain": [
       "<Figure size 432x288 with 1 Axes>"
      ]
     },
     "metadata": {
      "needs_background": "light"
     },
     "output_type": "display_data"
    }
   ],
   "source": [
    "print(\"TRUE : \", test_lab[64])\n",
    "print(\"PRED: \", pred_knn[64])\n",
    "plt.imshow(test_voy[64],cmap =\"gray\")"
   ]
  }
 ],
 "metadata": {
  "kernelspec": {
   "display_name": "Python 3 (ipykernel)",
   "language": "python",
   "name": "python3"
  },
  "language_info": {
   "codemirror_mode": {
    "name": "ipython",
    "version": 3
   },
   "file_extension": ".py",
   "mimetype": "text/x-python",
   "name": "python",
   "nbconvert_exporter": "python",
   "pygments_lexer": "ipython3",
   "version": "3.9.12"
  }
 },
 "nbformat": 4,
 "nbformat_minor": 5
}
