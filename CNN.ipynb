{
 "cells": [
  {
   "cell_type": "code",
   "execution_count": 1,
   "id": "d28c6ed3",
   "metadata": {},
   "outputs": [],
   "source": [
    "import glob\n",
    "import os\n",
    "import pandas as pd\n",
    "import numpy as np\n",
    "import tensorflow as tf\n",
    "from tensorflow.keras import models, layers\n",
    "from sklearn.metrics import confusion_matrix, ConfusionMatrixDisplay, classification_report\n",
    "import matplotlib.pyplot as plt"
   ]
  },
  {
   "cell_type": "code",
   "execution_count": 2,
   "id": "bf6bbb31",
   "metadata": {},
   "outputs": [],
   "source": [
    "path_names=[]\n",
    "for path in os.listdir(\"test_voyelles\"):\n",
    "    path_names.append(path)\n",
    "\n",
    "test=[]   \n",
    "for file in path_names:\n",
    "    a=np.loadtxt(\"test_voyelles/\"+file, dtype='int', delimiter='\\t')\n",
    "    test.append(a)\n",
    "    \n",
    "test_voy = np.asarray(test)"
   ]
  },
  {
   "cell_type": "code",
   "execution_count": 3,
   "id": "565fb4fc",
   "metadata": {},
   "outputs": [],
   "source": [
    "path_names_train=[]\n",
    "for path in os.listdir(\"train_voyelles\"):\n",
    "    path_names_train.append(path)\n",
    "\n",
    "train=[]   \n",
    "for file in path_names_train:\n",
    "    b=np.genfromtxt(\"train_voyelles/\"+file, dtype='int', delimiter='\\t')\n",
    "    train.append(b)\n",
    "    \n",
    "train_voy = np.asarray(train)"
   ]
  },
  {
   "cell_type": "code",
   "execution_count": 4,
   "id": "3f5bccec",
   "metadata": {},
   "outputs": [],
   "source": [
    "train_lab = np.loadtxt(\"train_labels.txt\",dtype=str)\n",
    "test_lab = np.loadtxt(\"test_labels.txt\",dtype=str)"
   ]
  },
  {
   "cell_type": "code",
   "execution_count": 5,
   "id": "df72a848",
   "metadata": {},
   "outputs": [],
   "source": [
    "train_voy=train_voy / 255.0\n",
    "test_voy = test_voy / 255.0"
   ]
  },
  {
   "cell_type": "code",
   "execution_count": 6,
   "id": "0b69adf7",
   "metadata": {},
   "outputs": [],
   "source": [
    "train_lab_num = [0 if voy == 'A' else 1 if voy == 'E' else 2 if voy == 'I' else 3 if voy == 'O' else 4 for voy in train_lab]\n",
    "test_lab_num = [0 if voy == 'A' else 1 if voy == 'E' else 2 if voy == 'I' else 3 if voy == 'O' else 4 for voy in test_lab]"
   ]
  },
  {
   "cell_type": "code",
   "execution_count": 7,
   "id": "8c8ba888",
   "metadata": {},
   "outputs": [],
   "source": [
    "model = tf.keras.Sequential()\n",
    "model.add(layers.Conv2D(32, (3, 3), activation='relu', input_shape=(18,18,1)))\n",
    "model.add(layers.MaxPooling2D((2, 2)))\n",
    "model.add(layers.Conv2D(64, (3, 3), activation='relu'))\n",
    "model.add(layers.MaxPooling2D((2, 2)))\n",
    "model.add(layers.Conv2D(64, (3, 3), activation='relu'))"
   ]
  },
  {
   "cell_type": "code",
   "execution_count": 8,
   "id": "3471fe87",
   "metadata": {},
   "outputs": [],
   "source": [
    "model.add(layers.Flatten())\n",
    "model.add(layers.Dense(64, activation='relu'))\n",
    "model.add(layers.Dense(10))"
   ]
  },
  {
   "cell_type": "code",
   "execution_count": 9,
   "id": "6b3c783f",
   "metadata": {},
   "outputs": [
    {
     "name": "stdout",
     "output_type": "stream",
     "text": [
      "Model: \"sequential\"\n",
      "_________________________________________________________________\n",
      " Layer (type)                Output Shape              Param #   \n",
      "=================================================================\n",
      " conv2d (Conv2D)             (None, 16, 16, 32)        320       \n",
      "                                                                 \n",
      " max_pooling2d (MaxPooling2D  (None, 8, 8, 32)         0         \n",
      " )                                                               \n",
      "                                                                 \n",
      " conv2d_1 (Conv2D)           (None, 6, 6, 64)          18496     \n",
      "                                                                 \n",
      " max_pooling2d_1 (MaxPooling  (None, 3, 3, 64)         0         \n",
      " 2D)                                                             \n",
      "                                                                 \n",
      " conv2d_2 (Conv2D)           (None, 1, 1, 64)          36928     \n",
      "                                                                 \n",
      " flatten (Flatten)           (None, 64)                0         \n",
      "                                                                 \n",
      " dense (Dense)               (None, 64)                4160      \n",
      "                                                                 \n",
      " dense_1 (Dense)             (None, 10)                650       \n",
      "                                                                 \n",
      "=================================================================\n",
      "Total params: 60,554\n",
      "Trainable params: 60,554\n",
      "Non-trainable params: 0\n",
      "_________________________________________________________________\n"
     ]
    }
   ],
   "source": [
    "model.summary()"
   ]
  },
  {
   "cell_type": "code",
   "execution_count": 10,
   "id": "b5756f1c",
   "metadata": {},
   "outputs": [],
   "source": [
    "model.compile(optimizer='adam',\n",
    "              loss=tf.keras.losses.SparseCategoricalCrossentropy(from_logits=True),\n",
    "              metrics=['accuracy'])"
   ]
  },
  {
   "cell_type": "code",
   "execution_count": 11,
   "id": "464f3fcb",
   "metadata": {},
   "outputs": [
    {
     "name": "stdout",
     "output_type": "stream",
     "text": [
      "Epoch 1/10\n",
      "141/141 [==============================] - 2s 8ms/step - loss: 0.8744 - accuracy: 0.7029 - val_loss: 0.2902 - val_accuracy: 0.9040\n",
      "Epoch 2/10\n",
      "141/141 [==============================] - 1s 7ms/step - loss: 0.1638 - accuracy: 0.9487 - val_loss: 0.0930 - val_accuracy: 0.9740\n",
      "Epoch 3/10\n",
      "141/141 [==============================] - 1s 7ms/step - loss: 0.0846 - accuracy: 0.9740 - val_loss: 0.0835 - val_accuracy: 0.9780\n",
      "Epoch 4/10\n",
      "141/141 [==============================] - 1s 7ms/step - loss: 0.0631 - accuracy: 0.9824 - val_loss: 0.0581 - val_accuracy: 0.9840\n",
      "Epoch 5/10\n",
      "141/141 [==============================] - 1s 7ms/step - loss: 0.0524 - accuracy: 0.9833 - val_loss: 0.0611 - val_accuracy: 0.9820\n",
      "Epoch 6/10\n",
      "141/141 [==============================] - 1s 7ms/step - loss: 0.0467 - accuracy: 0.9876 - val_loss: 0.0341 - val_accuracy: 0.9860\n",
      "Epoch 7/10\n",
      "141/141 [==============================] - 1s 7ms/step - loss: 0.0351 - accuracy: 0.9887 - val_loss: 0.0487 - val_accuracy: 0.9860\n",
      "Epoch 8/10\n",
      "141/141 [==============================] - 1s 7ms/step - loss: 0.0265 - accuracy: 0.9929 - val_loss: 0.0998 - val_accuracy: 0.9760\n",
      "Epoch 9/10\n",
      "141/141 [==============================] - 1s 7ms/step - loss: 0.0238 - accuracy: 0.9909 - val_loss: 0.0419 - val_accuracy: 0.9880\n",
      "Epoch 10/10\n",
      "141/141 [==============================] - 1s 6ms/step - loss: 0.0223 - accuracy: 0.9944 - val_loss: 0.0344 - val_accuracy: 0.9880\n"
     ]
    }
   ],
   "source": [
    "history = model.fit(train_voy, np.asarray((train_lab_num)), epochs=10,\n",
    "                    validation_data=(test_voy, np.asarray((test_lab_num))))"
   ]
  },
  {
   "cell_type": "code",
   "execution_count": 12,
   "id": "cdf79951",
   "metadata": {},
   "outputs": [
    {
     "name": "stdout",
     "output_type": "stream",
     "text": [
      "16/16 - 0s - loss: 0.0344 - accuracy: 0.9880 - 64ms/epoch - 4ms/step\n"
     ]
    },
    {
     "data": {
      "image/png": "[encoded data removed]",
      "text/plain": [
       "<Figure size 432x288 with 1 Axes>"
      ]
     },
     "metadata": {
      "needs_background": "light"
     },
     "output_type": "display_data"
    }
   ],
   "source": [
    "plt.plot(history.history['accuracy'], label='accuracy')\n",
    "plt.plot(history.history['val_accuracy'], label = 'val_accuracy')\n",
    "plt.xlabel('Epoch')\n",
    "plt.ylabel('Accuracy')\n",
    "plt.ylim([0.5, 1])\n",
    "plt.legend(loc='lower right')\n",
    "\n",
    "test_loss, test_acc = model.evaluate(test_voy,  np.asarray((test_lab_num)), verbose=2)"
   ]
  },
  {
   "cell_type": "code",
   "execution_count": 13,
   "id": "daea3432",
   "metadata": {},
   "outputs": [
    {
     "name": "stdout",
     "output_type": "stream",
     "text": [
      "0.9879999756813049\n"
     ]
    }
   ],
   "source": [
    "print(test_acc)"
   ]
  },
  {
   "cell_type": "code",
   "execution_count": 14,
   "id": "0c20d863",
   "metadata": {},
   "outputs": [],
   "source": [
    "probability_model = tf.keras.Sequential([model, \n",
    "                                         tf.keras.layers.Softmax()])"
   ]
  },
  {
   "cell_type": "code",
   "execution_count": 15,
   "id": "7317fd0f",
   "metadata": {},
   "outputs": [],
   "source": [
    "predictions = probability_model.predict(test_voy)"
   ]
  },
  {
   "cell_type": "code",
   "execution_count": 16,
   "id": "7b2e1511",
   "metadata": {},
   "outputs": [
    {
     "data": {
      "text/plain": [
       "2"
      ]
     },
     "execution_count": 16,
     "metadata": {},
     "output_type": "execute_result"
    }
   ],
   "source": [
    "np.argmax(predictions[0])"
   ]
  },
  {
   "cell_type": "code",
   "execution_count": 17,
   "id": "466203f2",
   "metadata": {},
   "outputs": [],
   "source": [
    "train_labels = ['A', 'E', 'I', 'O', 'U'] \n",
    "voy_pred=[]\n",
    "for preds in predictions:\n",
    "    li=np.argmax(preds)\n",
    "    lab=train_labels[li]\n",
    "    voy_pred.append(lab)"
   ]
  },
  {
   "cell_type": "code",
   "execution_count": 18,
   "id": "5c8139ee",
   "metadata": {},
   "outputs": [
    {
     "name": "stdout",
     "output_type": "stream",
     "text": [
      "              precision    recall  f1-score   support\n",
      "\n",
      "           A       0.99      0.99      0.99       105\n",
      "           E       0.97      0.99      0.98       108\n",
      "           I       1.00      0.97      0.98        92\n",
      "           O       1.00      0.99      1.00       108\n",
      "           U       0.98      1.00      0.99        87\n",
      "\n",
      "    accuracy                           0.99       500\n",
      "   macro avg       0.99      0.99      0.99       500\n",
      "weighted avg       0.99      0.99      0.99       500\n",
      "\n"
     ]
    }
   ],
   "source": [
    "print(classification_report(test_lab, voy_pred))"
   ]
  },
  {
   "cell_type": "code",
   "execution_count": 19,
   "id": "3915a0f1",
   "metadata": {},
   "outputs": [
    {
     "data": {
      "text/plain": [
       "<sklearn.metrics._plot.confusion_matrix.ConfusionMatrixDisplay at 0x15f02253a00>"
      ]
     },
     "execution_count": 19,
     "metadata": {},
     "output_type": "execute_result"
    },
    {
     "data": {
      "image/png": "[encoded data removed]",
      "text/plain": [
       "<Figure size 432x288 with 2 Axes>"
      ]
     },
     "metadata": {
      "needs_background": "light"
     },
     "output_type": "display_data"
    }
   ],
   "source": [
    "conf_mat_cnn = ConfusionMatrixDisplay(confusion_matrix=confusion_matrix(test_lab, voy_pred, labels=['A','E','I','O','U']), display_labels=['A','E','I','O','U'])\n",
    "conf_mat_cnn.plot()"
   ]
  },
  {
   "cell_type": "code",
   "execution_count": 20,
   "id": "fadfff2f",
   "metadata": {},
   "outputs": [],
   "source": [
    "def plot_image(i, predictions_array, true_label, img):\n",
    "    true_label, img = true_label[i], img[i]\n",
    "    plt.grid(False)\n",
    "    plt.xticks([])\n",
    "    plt.yticks([])\n",
    "\n",
    "    plt.imshow(img, cmap=plt.cm.binary)\n",
    "\n",
    "    predicted_label = np.argmax(predictions_array)\n",
    "    if predicted_label == true_label:\n",
    "        color = 'blue'\n",
    "    else:\n",
    "        color = 'red'\n",
    "\n",
    "    plt.xlabel(\"{} {:2.0f}% ({})\".format(train_labels[predicted_label],\n",
    "                                100*np.max(predictions_array),\n",
    "                                train_labels[true_label]),\n",
    "                                color=color)\n",
    "\n",
    "def plot_value_array(i, predictions_array, true_label):\n",
    "    true_label = true_label[i]\n",
    "    plt.grid(False)\n",
    "    plt.xticks(range(10))\n",
    "    plt.yticks([])\n",
    "    thisplot = plt.bar(range(10), predictions_array, color=\"#777777\")\n",
    "    plt.ylim([0, 1])\n",
    "    predicted_label = np.argmax(predictions_array)\n",
    "\n",
    "    thisplot[predicted_label].set_color('red')\n",
    "    thisplot[true_label].set_color('blue')"
   ]
  },
  {
   "cell_type": "code",
   "execution_count": 21,
   "id": "a4efd915",
   "metadata": {},
   "outputs": [
    {
     "data": {
      "image/png": "[encoded data removed]",
      "text/plain": [
       "<Figure size 864x720 with 30 Axes>"
      ]
     },
     "metadata": {
      "needs_background": "light"
     },
     "output_type": "display_data"
    }
   ],
   "source": [
    "# Plot the first X test images, their predicted labels, and the true labels.\n",
    "# Color correct predictions in blue and incorrect predictions in red.\n",
    "num_rows = 5\n",
    "num_cols = 3\n",
    "num_images = num_rows*num_cols\n",
    "plt.figure(figsize=(2*2*num_cols, 2*num_rows))\n",
    "for i in range(num_images):\n",
    "    plt.subplot(num_rows, 2*num_cols, 2*i+1)\n",
    "    plot_image(i, predictions[i], test_lab_num, test_voy)\n",
    "    plt.subplot(num_rows, 2*num_cols, 2*i+2)\n",
    "    plot_value_array(i, predictions[i], test_lab_num)\n",
    "plt.tight_layout()\n",
    "plt.show()"
   ]
  },
  {
   "cell_type": "code",
   "execution_count": 22,
   "id": "d5358759",
   "metadata": {},
   "outputs": [
    {
     "data": {
      "text/plain": [
       "[12, 331]"
      ]
     },
     "execution_count": 22,
     "metadata": {},
     "output_type": "execute_result"
    }
   ],
   "source": [
    "errors=[]\n",
    "for i in range(len(test_lab)):\n",
    "    if test_lab[i] != voy_pred[i]:\n",
    "        errors.append(i)\n",
    "errors[0:2]"
   ]
  },
  {
   "cell_type": "code",
   "execution_count": 24,
   "id": "69293649",
   "metadata": {},
   "outputs": [
    {
     "name": "stdout",
     "output_type": "stream",
     "text": [
      "TRUE :  I\n",
      "PRED:  U\n"
     ]
    },
    {
     "data": {
      "image/png": "[encoded data removed]",
      "text/plain": [
       "<Figure size 432x216 with 2 Axes>"
      ]
     },
     "metadata": {
      "needs_background": "light"
     },
     "output_type": "display_data"
    },
    {
     "name": "stdout",
     "output_type": "stream",
     "text": [
      "TRUE :  O\n",
      "PRED:  E\n"
     ]
    },
    {
     "data": {
      "image/png": "[encoded data removed]",
      "text/plain": [
       "<Figure size 432x216 with 2 Axes>"
      ]
     },
     "metadata": {
      "needs_background": "light"
     },
     "output_type": "display_data"
    }
   ],
   "source": [
    "#two errors\n",
    "print(\"TRUE : \", test_lab[12])\n",
    "print(\"PRED: \", voy_pred[12])\n",
    "i = 12\n",
    "plt.figure(figsize=(6,3))\n",
    "plt.subplot(1,2,1)\n",
    "plot_image(i, predictions[i], test_lab_num, test_voy)\n",
    "plt.subplot(1,2,2)\n",
    "plot_value_array(i, predictions[i],  test_lab_num)\n",
    "plt.show()\n",
    "\n",
    "print(\"TRUE : \", test_lab[331])\n",
    "print(\"PRED: \", voy_pred[331])\n",
    "i = 331\n",
    "plt.figure(figsize=(6,3))\n",
    "plt.subplot(1,2,1)\n",
    "plot_image(i, predictions[i], test_lab_num, test_voy)\n",
    "plt.subplot(1,2,2)\n",
    "plot_value_array(i, predictions[i],  test_lab_num)\n",
    "plt.show()"
   ]
  }
 ],
 "metadata": {
  "kernelspec": {
   "display_name": "Python 3 (ipykernel)",
   "language": "python",
   "name": "python3"
  },
  "language_info": {
   "codemirror_mode": {
    "name": "ipython",
    "version": 3
   },
   "file_extension": ".py",
   "mimetype": "text/x-python",
   "name": "python",
   "nbconvert_exporter": "python",
   "pygments_lexer": "ipython3",
   "version": "3.9.12"
  }
 },
 "nbformat": 4,
 "nbformat_minor": 5
}
